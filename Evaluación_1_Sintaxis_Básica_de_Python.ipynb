{
  "nbformat": 4,
  "nbformat_minor": 0,
  "metadata": {
    "colab": {
      "provenance": [],
      "authorship_tag": "ABX9TyO1tHNfXjN+8w+2tIn1AC7P",
      "include_colab_link": true
    },
    "kernelspec": {
      "name": "python3",
      "display_name": "Python 3"
    },
    "language_info": {
      "name": "python"
    }
  },
  "cells": [
    {
      "cell_type": "markdown",
      "metadata": {
        "id": "view-in-github",
        "colab_type": "text"
      },
      "source": [
        "<a href=\"https://colab.research.google.com/github/joiner-arrieta/Evaluaciones-de-Python-/blob/main/Evaluaci%C3%B3n_1_Sintaxis_B%C3%A1sica_de_Python.ipynb\" target=\"_parent\"><img src=\"https://colab.research.google.com/assets/colab-badge.svg\" alt=\"Open In Colab\"/></a>"
      ]
    },
    {
      "cell_type": "markdown",
      "source": [
        "#PYTHON APLICADO A LA INGENIERIA\n",
        "#**DOCENTE:** Miguel ortiz\n",
        "#**ESTUDIANTE:** Joiner Arrieta\n",
        "#**E-Mail:** joiner.arrieta@upb.edu.co\n",
        "#**FECHA:** 30/07/2025\n"
      ],
      "metadata": {
        "id": "jM5xRJno3xQD"
      }
    },
    {
      "cell_type": "markdown",
      "source": [
        "\n",
        "#PROBLEMA 1\n",
        " Escriba un programa que reciba una sentencia del usuario y muestre cuántas veces aparece cada letra. Ignore los espacios y haga que la comparación no distinga entre mayúsculas y minúsculas.\n",
        "---\n",
        "\n"
      ],
      "metadata": {
        "id": "N8QwUSUQ0ie5"
      }
    },
    {
      "cell_type": "code",
      "execution_count": null,
      "metadata": {
        "id": "LIhD6c6cTj8l",
        "colab": {
          "base_uri": "https://localhost:8080/"
        },
        "outputId": "129396ab-9bf2-477d-f5ee-938028cd8798"
      },
      "outputs": [
        {
          "output_type": "stream",
          "name": "stdout",
          "text": [
            "j: 1\n",
            "o: 1\n",
            "i: 2\n",
            "n: 1\n",
            "e: 2\n",
            "r: 3\n",
            "a: 2\n",
            "t: 1\n"
          ]
        }
      ],
      "source": [
        "# PROBLEMA 1: Frecuencia de letras en una frase\n",
        "\n",
        "# Sintaxis básica para pedir algo al usuario\n",
        "frase = \"Joiner Arrieta\" # Colocamos cualquier frase\n",
        "\n",
        "# Los strings pueden convertirse a minúsculas con lower() y quitar espacios con replace()\n",
        "frase = frase.lower().replace(\" \", \"\") # Reemplazamos los espacios por vacío\n",
        "\n",
        "# Usamos un diccionario para guardar cuántas veces aparece cada letra\n",
        "frecuencias = {}\n",
        "\n",
        "# Utilizamos el for para revisar cada letra en la frase\n",
        "for letra in frase:\n",
        "  if letra in frecuencias: # Si la letra ya estaba en el diccionario\n",
        "    frecuencias[letra] += 1 # Se le suma 1\n",
        "  else: # Si es la primera vez que aparece\n",
        "    frecuencias[letra] = 1 # Se le asigna el valor 1\n",
        "\n",
        "# Imprimimos los resultados\n",
        "for letra in frecuencias:\n",
        "    print(letra + \":\", frecuencias[letra]) # Se imprime el resultado, que es la letra y el valor de veces que se repite \"Conteo\"\n"
      ]
    },
    {
      "cell_type": "markdown",
      "source": [
        "# PROBLEMA 2\n",
        "Escriba un programa que reciba una lista de palabras y cuente cuántas empiezan con la misma letra inicial. Ignore las mayúsculas y minúsculas."
      ],
      "metadata": {
        "id": "moNXQeon05qA"
      }
    },
    {
      "cell_type": "code",
      "source": [
        "# PROBLEMA 2: Contar palabras según la letra inicial\n",
        "\n",
        "# Lista de palabras ya definida\n",
        "palabras = [\"Pezcado\", \"Cerdo\", \"Banano\", \"Arroz\", \"Tomate\", \"Cebolla\", \"Ajo\", \"Res\"]\n",
        "\n",
        "# Diccionario para contar cuántas palabras empiezan con cada caracter\n",
        "conteo_inicial = {} # Implementamos un diccionario vaío para guardar los resultados\n",
        "\n",
        "# Recorremos cada palabra\n",
        "for palabra in palabras:\n",
        "    if palabra:  # Asegura que no esté vacía\n",
        "        inicial = palabra[0].lower()  # Toma la primera letra o caracter\n",
        "        if inicial in conteo_inicial:\n",
        "            conteo_inicial[inicial] += 1 # Se suma uno cuando la letra ya este en el diccinario\n",
        "        else:\n",
        "            conteo_inicial[inicial] = 1 # Se establece en uno cuando la letra no esté en el diccionario\n",
        "\n",
        "# Mostramos los resultados\n",
        "for letra in conteo_inicial:\n",
        "    print(letra + \":\", conteo_inicial[letra]) # Imprimimos la letra y el conteo\n"
      ],
      "metadata": {
        "id": "sOUlXhUbXLsp",
        "colab": {
          "base_uri": "https://localhost:8080/"
        },
        "outputId": "bb014783-782b-4546-cd93-67970aa9e3a1"
      },
      "execution_count": 32,
      "outputs": [
        {
          "output_type": "stream",
          "name": "stdout",
          "text": [
            "p: 1\n",
            "c: 2\n",
            "b: 1\n",
            "a: 2\n",
            "t: 1\n",
            "r: 1\n"
          ]
        }
      ]
    },
    {
      "cell_type": "markdown",
      "source": [
        "#PROBLEMA 3\n",
        "Escriba un programa que reciba un diccionario de productos. Cada producto tiene un código único como clave, y su valor es otro diccionario que contiene un «nombre» y un «precio». El programa debe mostrar el nombre y el precio del producto más barato y del más caro."
      ],
      "metadata": {
        "id": "Y56jlgC61DUe"
      }
    },
    {
      "cell_type": "code",
      "source": [
        "# PROBLEMA 3: Análisis de precios de productos\n",
        "\n",
        "# Lista de productos guardados en un diccionario\n",
        "productos = {\n",
        "    \"P01\": {\"Nombre\": \"Cargador 56w\", \"Precio\": 54000.000},\n",
        "    \"P02\": {\"Nombre\": \"Cable HDMI \", \"Precio\": 8000.000},\n",
        "    \"P03\": {\"Nombre\": \"Mouse\", \"Precio\": 77000.000},\n",
        "    \"P04\": {\"Nombre\": \"Teclado\", \"Precio\": 99000.000},\n",
        "    \"P05\": {\"Nombre\": \"Monitor\", \"Precio\": 345000.000},\n",
        "}\n",
        "\n",
        "# Inicializamos dos variables para guardar el más barato y el más caro\n",
        "mas_barato = None #None es ningno en python\n",
        "mas_caro = None # Se pone en None, para que sea rellenado posterioirmente cuando se encuentre un producto mas caro\n",
        "\n",
        "# Se recorren todos los productos del diccionario con la funcino \"for\"\n",
        "for p in productos.values(): # Utilizamos p para cada producto, \"P01\", \"P02\", \"P03\", \"P04\", \"P05\" y así sucesivamente con cada producto que agreguemos\n",
        "   if mas_barato is None or p[\"Precio\"] < mas_barato[\"Precio\"]: # Este guarda un producto mas barato, si el precio del producto es menor al precio del producto mas barato\n",
        "    mas_barato = p # Entonces guarda el producto mas barato como p\n",
        "   if mas_caro is None or p[\"Precio\"] > mas_caro[\"Precio\"]: # Aqui se guarda el producto mas barato, cuando el precio del nuevo producto es mas caro que el precio del producto \"mas coaro\" que ya se tenia guardado\n",
        "    mas_caro = p # Entonces guarda el producto mas caro como p\n",
        "\n",
        "# Mostramos los resultados\n",
        "print(\"Mas barato:\", mas_barato[\"Nombre\"], \"Valor: \", \"$\" + str(mas_barato[\"Precio\"])) # Imprimimos un valor mas barato, el nombre y el precio\n",
        "print(\"Mas caro:\", mas_caro[\"Nombre\"], \"Valor: \", \"$\" + str(mas_caro[\"Precio\"])) # Y en este apartado el valor mas caro, se utiliza el str para convertir el precio a string\n"
      ],
      "metadata": {
        "id": "ajDzGfNsXNes",
        "colab": {
          "base_uri": "https://localhost:8080/"
        },
        "outputId": "6f2dd286-8d34-41d9-a17e-4242ad5a4ea3"
      },
      "execution_count": null,
      "outputs": [
        {
          "output_type": "stream",
          "name": "stdout",
          "text": [
            "Mas barato: Cable HDMI  Valor:  $8000.0\n",
            "Mas caro: Monitor Valor:  $345000.0\n"
          ]
        }
      ]
    }
  ]
}